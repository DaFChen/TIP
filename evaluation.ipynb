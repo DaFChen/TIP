{
 "cells": [
  {
   "cell_type": "markdown",
   "metadata": {
    "toc": true
   },
   "source": [
    "<h1>Table of Contents<span class=\"tocSkip\"></span></h1>\n",
    "<div class=\"toc\"><ul class=\"toc-item\"><li><span><a href=\"#Load-index,-data-and-results\" data-toc-modified-id=\"Load-index,-data-and-results-1\"><span class=\"toc-item-num\">1&nbsp;&nbsp;</span>Load index, data and results</a></span><ul class=\"toc-item\"><li><span><a href=\"#Id-index-map-loading\" data-toc-modified-id=\"Id-index-map-loading-1.1\"><span class=\"toc-item-num\">1.1&nbsp;&nbsp;</span>Id-index map loading</a></span></li><li><span><a href=\"#Generate-/-use-polypharmacy-side-effect-id-name-map\" data-toc-modified-id=\"Generate-/-use-polypharmacy-side-effect-id-name-map-1.2\"><span class=\"toc-item-num\">1.2&nbsp;&nbsp;</span>Generate / use polypharmacy side effect id-name map</a></span></li><li><span><a href=\"#Data-loading-with-selected-d-d-edge-labels\" data-toc-modified-id=\"Data-loading-with-selected-d-d-edge-labels-1.3\"><span class=\"toc-item-num\">1.3&nbsp;&nbsp;</span>Data loading with selected d-d edge labels</a></span></li></ul></li><li><span><a href=\"#Performance-Comparation\" data-toc-modified-id=\"Performance-Comparation-2\"><span class=\"toc-item-num\">2&nbsp;&nbsp;</span>Performance Comparation</a></span></li><li><span><a href=\"#Drug-embeddings\" data-toc-modified-id=\"Drug-embeddings-3\"><span class=\"toc-item-num\">3&nbsp;&nbsp;</span>Drug embeddings</a></span></li><li><span><a href=\"#Model-Characteristics-and-Relablility\" data-toc-modified-id=\"Model-Characteristics-and-Relablility-4\"><span class=\"toc-item-num\">4&nbsp;&nbsp;</span>Model Characteristics and Relablility</a></span><ul class=\"toc-item\"><li><span><a href=\"#The-side-effects-evaluated-in-Zitnik-et-al.-(2018)\" data-toc-modified-id=\"The-side-effects-evaluated-in-Zitnik-et-al.-(2018)-4.1\"><span class=\"toc-item-num\">4.1&nbsp;&nbsp;</span>The side effects evaluated in Zitnik et al. (2018)</a></span></li><li><span><a href=\"#The-side-effects-evaluated-in-our-work\" data-toc-modified-id=\"The-side-effects-evaluated-in-our-work-4.2\"><span class=\"toc-item-num\">4.2&nbsp;&nbsp;</span>The side effects evaluated in our work</a></span></li></ul></li></ul></div>"
   ]
  },
  {
   "cell_type": "code",
   "execution_count": 1,
   "metadata": {
    "pycharm": {
     "is_executing": false
    }
   },
   "outputs": [],
   "source": [
    "from data.utils import load_data_torch, process_prot_edge\n",
    "from torch_geometric.data import Data\n",
    "from src.utils import process_edges\n",
    "import matplotlib.pyplot as plt\n",
    "import pandas as pd\n",
    "import pickle\n",
    "import numpy as np\n",
    "import csv\n",
    "import torch\n",
    "import os\n",
    "\n",
    "torch.manual_seed(1111)\n",
    "np.random.seed(1111)"
   ]
  },
  {
   "cell_type": "markdown",
   "metadata": {},
   "source": [
    "!!! Note: make sure the scipy and torch packages have also been installed properly to run this notebook."
   ]
  },
  {
   "cell_type": "markdown",
   "metadata": {},
   "source": [
    "## Load index, data and results"
   ]
  },
  {
   "cell_type": "markdown",
   "metadata": {},
   "source": [
    "### Id-index map loading"
   ]
  },
  {
   "cell_type": "code",
   "execution_count": 2,
   "metadata": {},
   "outputs": [],
   "source": [
    "# drug id - index\n",
    "with open('./data/index_map/drug-map.pkl', 'rb') as f:\n",
    "    drug_map = pickle.load(f)\n",
    "inv_drug_map = {v: k for k, v in drug_map.items()}\n",
    "\n",
    "# combo id - index\n",
    "with open('./data/index_map/combo_map.pkl', 'rb') as f:\n",
    "    combo_map = pickle.load(f)\n",
    "inv_combo_map = {v: k for k, v in combo_map.items()}"
   ]
  },
  {
   "cell_type": "markdown",
   "metadata": {},
   "source": [
    "### Generate / use polypharmacy side effect id-name map"
   ]
  },
  {
   "cell_type": "code",
   "execution_count": 3,
   "metadata": {},
   "outputs": [],
   "source": [
    "######################################################\n",
    "# generate polypharmacy side effect id - name map\n",
    "# combo_name_map = {}\n",
    "# with open('../data/index_map/bio-decagon-combo.csv', 'r') as f:\n",
    "#     reader = csv.reader(f)\n",
    "#     next(reader)\n",
    "#     for _, _, id, name in reader:\n",
    "#         id = int(id.split('C')[-1])\n",
    "#         combo_name_map[id] = name\n",
    "\n",
    "# # save map\n",
    "# with open('../data/index_map/combo-name-map.pkl', 'wb') as f:\n",
    "#     pickle.dump(combo_name_map, f)\n",
    "\n",
    "# use map\n",
    "with open('./data/index_map/combo-name-map.pkl', 'rb') as f:\n",
    "    combo_name_map = pickle.load(f)\n",
    "inv_combo_name_map = {v: k for k, v in combo_name_map.items()}"
   ]
  },
  {
   "cell_type": "markdown",
   "metadata": {},
   "source": [
    "### Data loading with selected d-d edge labels"
   ]
  },
  {
   "cell_type": "code",
   "execution_count": 4,
   "metadata": {},
   "outputs": [
    {
     "name": "stdout",
     "output_type": "stream",
     "text": [
      "loading data\n",
      "remove  0  isolated drugs:  []\n",
      "remove finished\n",
      "1097  polypharmacy side effects\n",
      "data has been loaded\n"
     ]
    }
   ],
   "source": [
    "# selected-drug idx - drug idx\n",
    "with open('./data/decagon_et.pkl', 'rb') as f:   # the whole dataset\n",
    "    et_list = pickle.load(f)\n",
    "inv_et_list = {et_list[i]: i for i in range(len(et_list))}\n",
    "\n",
    "# load training data\n",
    "feed_dict = load_data_torch(\"./data/\", et_list, mono=True)\n",
    "data = Data.from_dict(feed_dict)\n"
   ]
  },
  {
   "cell_type": "code",
   "execution_count": 5,
   "metadata": {},
   "outputs": [
    {
     "name": "stdout",
     "output_type": "stream",
     "text": [
      "torch.Size([924708])\n"
     ]
    }
   ],
   "source": [
    "data.train_idx, data.train_et, data.train_range,data.test_idx, data.test_et, data.test_range = process_edges(data.dd_edge_index)\n",
    "\n",
    "print(data.test_et.size())"
   ]
  },
  {
   "cell_type": "markdown",
   "metadata": {},
   "source": [
    "## Performance Comparation"
   ]
  },
  {
   "cell_type": "code",
   "execution_count": 28,
   "metadata": {},
   "outputs": [],
   "source": [
    "# model loading\n",
    "models = {'DR-DF': 'dd-rgcn-dist(16-64-32-16)', \n",
    "          'DR-NN': 'dd-rgcn-nn(16-64-32-16)', \n",
    "          'PR-HMP-NN': 'pd-32-16-8-16-963', \n",
    "          'TIP': 'fm-(32-16)-(16-16-32-32-16)'}\n",
    "\n",
    "# loading function for recorded test scores druging training\n",
    "def get_test_out(model_name):\n",
    "    with open('../out/'+ models[model_name] +'/test_out.pkl', 'rb') as f:\n",
    "        record = pickle.load(f)\n",
    "    return record\n"
   ]
  },
  {
   "cell_type": "code",
   "execution_count": 31,
   "metadata": {
    "scrolled": false
   },
   "outputs": [],
   "source": [
    "# get averaged auprc scores for each epoches\n",
    "scores = dict()\n",
    "prc_final = dict()\n",
    "for model in models.keys():\n",
    "    out = get_test_out(model)\n",
    "    scores[model] = out\n",
    "    prc_final[model] = out[99][0]"
   ]
  },
  {
   "cell_type": "code",
   "execution_count": 62,
   "metadata": {
    "scrolled": false
   },
   "outputs": [
    {
     "name": "stdout",
     "output_type": "stream",
     "text": [
      "---------------------------------------------\n",
      "|AUPRC scores for TIP model and its variants|\n",
      "---------------------------------------------\n",
      "|DR-DF         |                       0.948|\n",
      "|DR-NN         |                       0.944|\n",
      "|PR-HMP-NN     |                       0.746|\n",
      "|TIP           |                       0.948|\n",
      "---------------------------------------------\n"
     ]
    }
   ],
   "source": [
    "# print final AUPRC scores  for each models\n",
    "lines = '---------------------------------------------'\n",
    "print(lines)\n",
    "print('|{:10s}|'.format('AUPRC scores for TIP model and its variants'))\n",
    "print(lines)\n",
    "formats = '|{:14s}|{:28.3f}|'\n",
    "for model, scores in prc_final.items():\n",
    "    print(formats.format(model, scores))\n",
    "print(lines)\n"
   ]
  },
  {
   "cell_type": "markdown",
   "metadata": {},
   "source": [
    "## Drug embeddings \n"
   ]
  },
  {
   "cell_type": "markdown",
   "metadata": {},
   "source": [
    "## Model Characteristics and Relablility "
   ]
  },
  {
   "cell_type": "markdown",
   "metadata": {},
   "source": [
    "### The side effects evaluated in Zitnik et al. (2018)\n",
    "The side effects with the top 10 best performance and 10 best performance, according to averaged auprc scores"
   ]
  },
  {
   "cell_type": "code",
   "execution_count": 6,
   "metadata": {},
   "outputs": [],
   "source": [
    "# ######################################################\n",
    "# side effect name - original index reported in decagon\n",
    "decagon_best_name = [\"Mumps\", \"Carbuncle\", \"Coccydynia\", \"Tympanic membrane perfor\", \"Dyshidrosis\", \"Spondylosis\", \"Schizoaffective disorder\", \"Breast dysplasia\", \"Ganglion\", \"Uterine polyp\"]\n",
    "decagon_worst_name = [\"Bleeding\", \"Body temperature increased\",  \"Emesis\", \"Renal disorder\", \"Leucopenia\", \"Diarrhea\", \"Icterus\", \"Nausea\", \"Itch\", \"Anaemia\"]\n",
    "decagon_best_org_id = [26780, 7078, 9193, 206504, 32633, 38019, 36337, 16034, 1258666, 156369]\n",
    "decagon_worst_org_id = [19080, 15967, 42963, 22658, 23530, 11991, 22346, 27497, 33774, 2871]\n",
    "\n",
    "# get index\n",
    "decagon_best_idx = [inv_et_list[combo_map[i]] for i in decagon_best_org_id]\n",
    "decagon_worst_idx = [inv_et_list[combo_map[i]] for i in decagon_worst_org_id]\n",
    "\n"
   ]
  },
  {
   "cell_type": "markdown",
   "metadata": {},
   "source": [
    "### The side effects evaluated in our work\n",
    "The side effects with the top 20 best and 20 worst performance, according to averaged auprc scores."
   ]
  },
  {
   "cell_type": "code",
   "execution_count": 14,
   "metadata": {
    "scrolled": false
   },
   "outputs": [
    {
     "name": "stdout",
     "output_type": "stream",
     "text": [
      "-------------------------------------------------------------------------------------------------------\n",
      " The Highest AUPRC Score                   Edge| The Lowest AUPRC Score                            Edge\n",
      "-------------------------------------------------------------------------------------------------------\n",
      " cervical vertebral fracture     0.9963     516| Bleeding                                0.8308   12062\n",
      " hordeolum                       0.9942     546| agitated                                0.8447   19930\n",
      " Mumps                           0.9934     602| hypoglycaemia neonatal                  0.8467   12309\n",
      " spondylosis                     0.9931     847| Difficulty breathing                    0.8512   14192\n",
      " night cramps                    0.9920     689| thrombocytopenia                        0.8534    7126\n",
      " fibrosing alveolitis            0.9913     661| asystole                                0.8562    8621\n",
      " diaphragmatic hernia            0.9906     853| Aspartate Aminotransferase Increase     0.8586    3479\n",
      " renal colic                     0.9905    1085| lung edema                              0.8614    4030\n",
      " coccydynia                      0.9898     898| neonatal respiratory distress syndrome  0.8627    9358\n",
      " Bunion                          0.9887     551| hyperglycaemia                          0.8643    7915\n",
      " dyspareunia                     0.9884     685| Back Ache                               0.8647    5708\n",
      " Arachnoiditis                   0.9884     502| diarrhea                                0.8694   11218\n",
      " tympanic membrane perforation   0.9883    1030| Anorexia                                0.8694   17060\n",
      " tracheitis                      0.9880     633| confusion                               0.8700   12141\n",
      " soft tissue injuries            0.9879     584| patent ductus arteriosis                0.8701    8465\n",
      " spondylitis                     0.9877     687| allergies                               0.8706   14143\n",
      " Dyspnoea paroxysmal nocturnal   0.9876     670| sepsis                                  0.8725    1206\n",
      " nasal polyp                     0.9875     508| arterial pressure NOS decreased         0.8729   18779\n",
      " Breast cyst                     0.9866     636| Acidosis                                0.8730    4407\n",
      " epidural abscess                0.9865     516| itch                                    0.8736   12443\n",
      "-------------------------------------------------------------------------------------------------------\n"
     ]
    }
   ],
   "source": [
    "# ######################################################\n",
    "# Evaluation\n",
    "name = 'RGCN-DistMult on d-net'\n",
    "lines = '-------------------------------------------------------------------------------------------------------'\n",
    "\n",
    "with open('../out/dd-rgcn-dist/test_record.pkl', 'rb') as f:\n",
    "    dist_record = pickle.load(f)\n",
    "auprc = np.array(dist_record[len(dist_record)-1])[0, :]\n",
    "sorted_idx = np.argsort(auprc, kind='quicksort')\n",
    "\n",
    "print(lines)\n",
    "print(' {:37s}   {:6s}| {:45s}  {:6s}'.format('The Highest AUPRC Score', '  Edge', 'The Lowest AUPRC Score', '   Edge'))\n",
    "print(lines)\n",
    "\n",
    "for i in range(20):\n",
    "    print(' {:30s} {:7.4f}  {:6d}| {:38s} {:7.4f}  {:6d}'.format(\n",
    "        combo_name_map[inv_combo_map[et_list[sorted_idx[-(i+1)]]]], auprc[sorted_idx[-(i+1)]], feed_dict['dd_adj_list'][-(i+1)].nnz,\n",
    "        combo_name_map[inv_combo_map[et_list[sorted_idx[i]]]], auprc[sorted_idx[i]], feed_dict['dd_adj_list'][i].nnz))\n",
    "print(lines)\n",
    "\n",
    "decag_best_in_us = [962 - np.where(sorted_idx == i)[0] for i in decagon_best_idx]\n",
    "decag_worst_in_us = [np.where(sorted_idx == i)[0] for i in decagon_worst_idx]"
   ]
  },
  {
   "cell_type": "markdown",
   "metadata": {},
   "source": [
    "## Information Importance Evaluation"
   ]
  },
  {
   "cell_type": "code",
   "execution_count": 6,
   "metadata": {},
   "outputs": [
    {
     "name": "stdout",
     "output_type": "stream",
     "text": [
      "['ppm-ggm-distmult.pkl', 'tip-add.pkl', 'tip-cat.pkl', 'dist.pkl']\n"
     ]
    }
   ],
   "source": [
    "# load prediction scores for different trained models on testing dataset\n",
    "head = ['protein', 'drug', 'protein+drug']\n",
    "print(os.listdir('qu_out/eva'))\n",
    "score = []\n",
    "\n",
    "for pkl in os.listdir('qu_out/eva'):\n",
    "    with open('./qu_out/eva/{}'.format(pkl), 'rb') as f:\n",
    "        score.append(pickle.load(f))\n"
   ]
  },
  {
   "cell_type": "code",
   "execution_count": 16,
   "metadata": {},
   "outputs": [],
   "source": [
    "# side effect info - index and name\n",
    "side_effect_idx = [inv_combo_map[i] for i in data.test_et.tolist()]\n",
    "side_effect_name = [combo_name_map[i] for i in side_effect_idx]"
   ]
  },
  {
   "cell_type": "code",
   "execution_count": 22,
   "metadata": {},
   "outputs": [],
   "source": [
    "# drug info - drug bank index\n",
    "drug1_cid = [inv_drug_map[i] for i in data.test_idx[0].tolist()]\n",
    "drug2_cid = [inv_drug_map[i] for i in data.test_idx[1].tolist()]"
   ]
  },
  {
   "cell_type": "code",
   "execution_count": 24,
   "metadata": {},
   "outputs": [
    {
     "data": {
      "text/html": [
       "<div>\n",
       "<style scoped>\n",
       "    .dataframe tbody tr th:only-of-type {\n",
       "        vertical-align: middle;\n",
       "    }\n",
       "\n",
       "    .dataframe tbody tr th {\n",
       "        vertical-align: top;\n",
       "    }\n",
       "\n",
       "    .dataframe thead th {\n",
       "        text-align: right;\n",
       "    }\n",
       "</style>\n",
       "<table border=\"1\" class=\"dataframe\">\n",
       "  <thead>\n",
       "    <tr style=\"text-align: right;\">\n",
       "      <th></th>\n",
       "      <th>side effect</th>\n",
       "      <th>side effect index (C)</th>\n",
       "      <th>side effect name</th>\n",
       "      <th>drug1</th>\n",
       "      <th>drug1 STITCH (CID)</th>\n",
       "      <th>drug2</th>\n",
       "      <th>drug2 STITCH (CID)</th>\n",
       "      <th>protein-based prediction</th>\n",
       "      <th>drug-based prediction</th>\n",
       "      <th>protein&amp;drug-based prediction</th>\n",
       "    </tr>\n",
       "  </thead>\n",
       "  <tbody>\n",
       "    <tr>\n",
       "      <th>0</th>\n",
       "      <td>0</td>\n",
       "      <td>151714</td>\n",
       "      <td>hypermagnesemia</td>\n",
       "      <td>1</td>\n",
       "      <td>3345</td>\n",
       "      <td>58</td>\n",
       "      <td>853</td>\n",
       "      <td>0.500000</td>\n",
       "      <td>0.980667</td>\n",
       "      <td>0.603309</td>\n",
       "    </tr>\n",
       "    <tr>\n",
       "      <th>1</th>\n",
       "      <td>0</td>\n",
       "      <td>151714</td>\n",
       "      <td>hypermagnesemia</td>\n",
       "      <td>16</td>\n",
       "      <td>5391</td>\n",
       "      <td>350</td>\n",
       "      <td>4171</td>\n",
       "      <td>0.500000</td>\n",
       "      <td>0.855139</td>\n",
       "      <td>0.594710</td>\n",
       "    </tr>\n",
       "    <tr>\n",
       "      <th>2</th>\n",
       "      <td>0</td>\n",
       "      <td>151714</td>\n",
       "      <td>hypermagnesemia</td>\n",
       "      <td>28</td>\n",
       "      <td>3446</td>\n",
       "      <td>291</td>\n",
       "      <td>2471</td>\n",
       "      <td>0.500000</td>\n",
       "      <td>0.967403</td>\n",
       "      <td>0.636370</td>\n",
       "    </tr>\n",
       "    <tr>\n",
       "      <th>3</th>\n",
       "      <td>0</td>\n",
       "      <td>151714</td>\n",
       "      <td>hypermagnesemia</td>\n",
       "      <td>58</td>\n",
       "      <td>853</td>\n",
       "      <td>126</td>\n",
       "      <td>3016</td>\n",
       "      <td>0.984455</td>\n",
       "      <td>0.500000</td>\n",
       "      <td>0.636280</td>\n",
       "    </tr>\n",
       "    <tr>\n",
       "      <th>4</th>\n",
       "      <td>0</td>\n",
       "      <td>151714</td>\n",
       "      <td>hypermagnesemia</td>\n",
       "      <td>58</td>\n",
       "      <td>853</td>\n",
       "      <td>176</td>\n",
       "      <td>3062</td>\n",
       "      <td>0.992585</td>\n",
       "      <td>0.918021</td>\n",
       "      <td>0.573244</td>\n",
       "    </tr>\n",
       "    <tr>\n",
       "      <th>...</th>\n",
       "      <td>...</td>\n",
       "      <td>...</td>\n",
       "      <td>...</td>\n",
       "      <td>...</td>\n",
       "      <td>...</td>\n",
       "      <td>...</td>\n",
       "      <td>...</td>\n",
       "      <td>...</td>\n",
       "      <td>...</td>\n",
       "      <td>...</td>\n",
       "    </tr>\n",
       "    <tr>\n",
       "      <th>924703</th>\n",
       "      <td>1096</td>\n",
       "      <td>9952</td>\n",
       "      <td>febrile convulsion</td>\n",
       "      <td>428</td>\n",
       "      <td>5291</td>\n",
       "      <td>197</td>\n",
       "      <td>60147</td>\n",
       "      <td>0.500000</td>\n",
       "      <td>0.778182</td>\n",
       "      <td>0.542837</td>\n",
       "    </tr>\n",
       "    <tr>\n",
       "      <th>924704</th>\n",
       "      <td>1096</td>\n",
       "      <td>9952</td>\n",
       "      <td>febrile convulsion</td>\n",
       "      <td>204</td>\n",
       "      <td>4679</td>\n",
       "      <td>199</td>\n",
       "      <td>4594</td>\n",
       "      <td>0.500000</td>\n",
       "      <td>0.634582</td>\n",
       "      <td>0.344946</td>\n",
       "    </tr>\n",
       "    <tr>\n",
       "      <th>924705</th>\n",
       "      <td>1096</td>\n",
       "      <td>9952</td>\n",
       "      <td>febrile convulsion</td>\n",
       "      <td>315</td>\n",
       "      <td>3961</td>\n",
       "      <td>204</td>\n",
       "      <td>4679</td>\n",
       "      <td>0.500000</td>\n",
       "      <td>0.955419</td>\n",
       "      <td>0.368865</td>\n",
       "    </tr>\n",
       "    <tr>\n",
       "      <th>924706</th>\n",
       "      <td>1096</td>\n",
       "      <td>9952</td>\n",
       "      <td>febrile convulsion</td>\n",
       "      <td>246</td>\n",
       "      <td>2806</td>\n",
       "      <td>244</td>\n",
       "      <td>443871</td>\n",
       "      <td>0.500000</td>\n",
       "      <td>0.477580</td>\n",
       "      <td>0.379254</td>\n",
       "    </tr>\n",
       "    <tr>\n",
       "      <th>924707</th>\n",
       "      <td>1096</td>\n",
       "      <td>9952</td>\n",
       "      <td>febrile convulsion</td>\n",
       "      <td>356</td>\n",
       "      <td>5212</td>\n",
       "      <td>318</td>\n",
       "      <td>4091</td>\n",
       "      <td>0.500000</td>\n",
       "      <td>0.831679</td>\n",
       "      <td>0.394911</td>\n",
       "    </tr>\n",
       "  </tbody>\n",
       "</table>\n",
       "<p>924708 rows × 10 columns</p>\n",
       "</div>"
      ],
      "text/plain": [
       "        side effect  side effect index (C)    side effect name  drug1  \\\n",
       "0                 0                 151714     hypermagnesemia      1   \n",
       "1                 0                 151714     hypermagnesemia     16   \n",
       "2                 0                 151714     hypermagnesemia     28   \n",
       "3                 0                 151714     hypermagnesemia     58   \n",
       "4                 0                 151714     hypermagnesemia     58   \n",
       "...             ...                    ...                 ...    ...   \n",
       "924703         1096                   9952  febrile convulsion    428   \n",
       "924704         1096                   9952  febrile convulsion    204   \n",
       "924705         1096                   9952  febrile convulsion    315   \n",
       "924706         1096                   9952  febrile convulsion    246   \n",
       "924707         1096                   9952  febrile convulsion    356   \n",
       "\n",
       "        drug1 STITCH (CID)  drug2  drug2 STITCH (CID)  \\\n",
       "0                     3345     58                 853   \n",
       "1                     5391    350                4171   \n",
       "2                     3446    291                2471   \n",
       "3                      853    126                3016   \n",
       "4                      853    176                3062   \n",
       "...                    ...    ...                 ...   \n",
       "924703                5291    197               60147   \n",
       "924704                4679    199                4594   \n",
       "924705                3961    204                4679   \n",
       "924706                2806    244              443871   \n",
       "924707                5212    318                4091   \n",
       "\n",
       "        protein-based prediction  drug-based prediction  \\\n",
       "0                       0.500000               0.980667   \n",
       "1                       0.500000               0.855139   \n",
       "2                       0.500000               0.967403   \n",
       "3                       0.984455               0.500000   \n",
       "4                       0.992585               0.918021   \n",
       "...                          ...                    ...   \n",
       "924703                  0.500000               0.778182   \n",
       "924704                  0.500000               0.634582   \n",
       "924705                  0.500000               0.955419   \n",
       "924706                  0.500000               0.477580   \n",
       "924707                  0.500000               0.831679   \n",
       "\n",
       "        protein&drug-based prediction  \n",
       "0                            0.603309  \n",
       "1                            0.594710  \n",
       "2                            0.636370  \n",
       "3                            0.636280  \n",
       "4                            0.573244  \n",
       "...                               ...  \n",
       "924703                       0.542837  \n",
       "924704                       0.344946  \n",
       "924705                       0.368865  \n",
       "924706                       0.379254  \n",
       "924707                       0.394911  \n",
       "\n",
       "[924708 rows x 10 columns]"
      ]
     },
     "execution_count": 24,
     "metadata": {},
     "output_type": "execute_result"
    }
   ],
   "source": [
    "# table construction\n",
    "a = pd.DataFrame({'side effect': data.test_et, \n",
    "                  'side effect index (C)': side_effect_idx,\n",
    "                  'side effect name': side_effect_name,\n",
    "                  'drug1': data.test_idx[0],\n",
    "                  'drug1 STITCH (CID)': drug1_cid,\n",
    "                  'drug2': data.test_idx[1], \n",
    "                  'drug2 STITCH (CID)': drug2_cid,\n",
    "                  'protein-based prediction': score[0], \n",
    "                  'drug-based prediction': score[3], \n",
    "                  'protein&drug-based prediction': score[2]})\n",
    "a"
   ]
  },
  {
   "cell_type": "code",
   "execution_count": 26,
   "metadata": {
    "scrolled": false
   },
   "outputs": [],
   "source": [
    "# save to csv file\n",
    "a.to_csv('evaluation_table.csv', index=False)"
   ]
  },
  {
   "cell_type": "code",
   "execution_count": null,
   "metadata": {},
   "outputs": [],
   "source": []
  }
 ],
 "metadata": {
  "hide_input": false,
  "kernelspec": {
   "display_name": "Python 3",
   "language": "python",
   "name": "python3"
  },
  "language_info": {
   "codemirror_mode": {
    "name": "ipython",
    "version": 3
   },
   "file_extension": ".py",
   "mimetype": "text/x-python",
   "name": "python",
   "nbconvert_exporter": "python",
   "pygments_lexer": "ipython3",
   "version": "3.7.5"
  },
  "pycharm": {
   "stem_cell": {
    "cell_type": "raw",
    "metadata": {
     "collapsed": false
    },
    "source": []
   }
  },
  "toc": {
   "base_numbering": 1,
   "nav_menu": {},
   "number_sections": true,
   "sideBar": true,
   "skip_h1_title": false,
   "title_cell": "Table of Contents",
   "title_sidebar": "Contents",
   "toc_cell": true,
   "toc_position": {
    "height": "calc(100% - 180px)",
    "left": "10px",
    "top": "150px",
    "width": "184.797px"
   },
   "toc_section_display": true,
   "toc_window_display": true
  },
  "varInspector": {
   "cols": {
    "lenName": 16,
    "lenType": 16,
    "lenVar": 40
   },
   "kernels_config": {
    "python": {
     "delete_cmd_postfix": "",
     "delete_cmd_prefix": "del ",
     "library": "var_list.py",
     "varRefreshCmd": "print(var_dic_list())"
    },
    "r": {
     "delete_cmd_postfix": ") ",
     "delete_cmd_prefix": "rm(",
     "library": "var_list.r",
     "varRefreshCmd": "cat(var_dic_list()) "
    }
   },
   "position": {
    "height": "293px",
    "left": "1064px",
    "right": "20px",
    "top": "2px",
    "width": "343px"
   },
   "types_to_exclude": [
    "module",
    "function",
    "builtin_function_or_method",
    "instance",
    "_Feature"
   ],
   "window_display": false
  }
 },
 "nbformat": 4,
 "nbformat_minor": 2
}
