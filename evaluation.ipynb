{
 "cells": [
  {
   "cell_type": "markdown",
   "metadata": {
    "toc": true
   },
   "source": [
    "<h1>Table of Contents<span class=\"tocSkip\"></span></h1>\n",
    "<div class=\"toc\"><ul class=\"toc-item\"><li><span><a href=\"#Load-index,-data-and-results\" data-toc-modified-id=\"Load-index,-data-and-results-1\"><span class=\"toc-item-num\">1&nbsp;&nbsp;</span>Load index, data and results</a></span><ul class=\"toc-item\"><li><span><a href=\"#Id-index-map-loading\" data-toc-modified-id=\"Id-index-map-loading-1.1\"><span class=\"toc-item-num\">1.1&nbsp;&nbsp;</span>Id-index map loading</a></span></li><li><span><a href=\"#Generate-/-use-polypharmacy-side-effect-id-name-map\" data-toc-modified-id=\"Generate-/-use-polypharmacy-side-effect-id-name-map-1.2\"><span class=\"toc-item-num\">1.2&nbsp;&nbsp;</span>Generate / use polypharmacy side effect id-name map</a></span></li><li><span><a href=\"#Data-loading-with-selected-d-d-edge-labels\" data-toc-modified-id=\"Data-loading-with-selected-d-d-edge-labels-1.3\"><span class=\"toc-item-num\">1.3&nbsp;&nbsp;</span>Data loading with selected d-d edge labels</a></span></li></ul></li><li><span><a href=\"#Performance-Comparation\" data-toc-modified-id=\"Performance-Comparation-2\"><span class=\"toc-item-num\">2&nbsp;&nbsp;</span>Performance Comparation</a></span></li><li><span><a href=\"#Drug-embeddings\" data-toc-modified-id=\"Drug-embeddings-3\"><span class=\"toc-item-num\">3&nbsp;&nbsp;</span>Drug embeddings</a></span></li><li><span><a href=\"#Model-Characteristics-and-Relablility\" data-toc-modified-id=\"Model-Characteristics-and-Relablility-4\"><span class=\"toc-item-num\">4&nbsp;&nbsp;</span>Model Characteristics and Relablility</a></span><ul class=\"toc-item\"><li><span><a href=\"#The-side-effects-evaluated-in-Zitnik-et-al.-(2018)\" data-toc-modified-id=\"The-side-effects-evaluated-in-Zitnik-et-al.-(2018)-4.1\"><span class=\"toc-item-num\">4.1&nbsp;&nbsp;</span>The side effects evaluated in Zitnik et al. (2018)</a></span></li><li><span><a href=\"#The-side-effects-evaluated-in-our-work\" data-toc-modified-id=\"The-side-effects-evaluated-in-our-work-4.2\"><span class=\"toc-item-num\">4.2&nbsp;&nbsp;</span>The side effects evaluated in our work</a></span></li></ul></li></ul></div>"
   ]
  },
  {
   "cell_type": "code",
   "execution_count": 2,
   "metadata": {
    "pycharm": {
     "is_executing": false
    }
   },
   "outputs": [],
   "source": [
    "from analysis.load import load_data_torch\n",
    "import matplotlib.pyplot as plt\n",
    "import pickle\n",
    "import numpy\n",
    "import csv\n",
    "import torch"
   ]
  },
  {
   "cell_type": "markdown",
   "metadata": {},
   "source": [
    "!!! Note: make sure the scipy and torch packages have also been installed properly to run this notebook."
   ]
  },
  {
   "cell_type": "markdown",
   "metadata": {},
   "source": [
    "## Load index, data and results"
   ]
  },
  {
   "cell_type": "markdown",
   "metadata": {},
   "source": [
    "### Id-index map loading"
   ]
  },
  {
   "cell_type": "code",
   "execution_count": 4,
   "metadata": {},
   "outputs": [],
   "source": [
    "# drug id - index\n",
    "with open('./data/index_map/drug-map.pkl', 'rb') as f:\n",
    "    drug_map = pickle.load(f)\n",
    "inv_drug_map = {v: k for k, v in drug_map.items()}\n",
    "\n",
    "# combo id - index\n",
    "with open('./data/index_map/combo_map.pkl', 'rb') as f:\n",
    "    combo_map = pickle.load(f)\n",
    "inv_combo_map = {v: k for k, v in combo_map.items()}"
   ]
  },
  {
   "cell_type": "markdown",
   "metadata": {},
   "source": [
    "### Generate / use polypharmacy side effect id-name map"
   ]
  },
  {
   "cell_type": "code",
   "execution_count": 5,
   "metadata": {},
   "outputs": [],
   "source": [
    "######################################################\n",
    "# generate polypharmacy side effect id - name map\n",
    "# combo_name_map = {}\n",
    "# with open('../data/index_map/bio-decagon-combo.csv', 'r') as f:\n",
    "#     reader = csv.reader(f)\n",
    "#     next(reader)\n",
    "#     for _, _, id, name in reader:\n",
    "#         id = int(id.split('C')[-1])\n",
    "#         combo_name_map[id] = name\n",
    "\n",
    "# # save map\n",
    "# with open('../data/index_map/combo-name-map.pkl', 'wb') as f:\n",
    "#     pickle.dump(combo_name_map, f)\n",
    "\n",
    "# use map\n",
    "with open('./data/index_map/combo-name-map.pkl', 'rb') as f:\n",
    "    combo_name_map = pickle.load(f)"
   ]
  },
  {
   "cell_type": "markdown",
   "metadata": {},
   "source": [
    "### Data loading with selected d-d edge labels"
   ]
  },
  {
   "cell_type": "code",
   "execution_count": 6,
   "metadata": {},
   "outputs": [
    {
     "name": "stdout",
     "output_type": "stream",
     "text": [
      "loading data\n",
      "remove  0  isolated drugs:  []\n",
      "remove finished\n",
      "1097  polypharmacy side effects\n",
      "data has been loaded\n"
     ]
    }
   ],
   "source": [
    "# selected-drug idx - drug idx\n",
    "with open('./data/decagon_et.pkl', 'rb') as f:   # the whole dataset\n",
    "    et_list = pickle.load(f)\n",
    "inv_et_list = {et_list[i]: i for i in range(len(et_list))}\n",
    "\n",
    "# load training data\n",
    "feed_dict = load_data_torch(\"./data/\", et_list, mono=False)"
   ]
  },
  {
   "cell_type": "markdown",
   "metadata": {},
   "source": [
    "## Performance Comparation"
   ]
  },
  {
   "cell_type": "code",
   "execution_count": 28,
   "metadata": {},
   "outputs": [],
   "source": [
    "# model loading\n",
    "models = {'DR-DF': 'dd-rgcn-dist(16-64-32-16)', \n",
    "          'DR-NN': 'dd-rgcn-nn(16-64-32-16)', \n",
    "          'PR-HMP-NN': 'pd-32-16-8-16-963', \n",
    "          'TIP': 'fm-(32-16)-(16-16-32-32-16)'}\n",
    "\n",
    "# loading function for recorded test scores druging training\n",
    "def get_test_out(model_name):\n",
    "    with open('../out/'+ models[model_name] +'/test_out.pkl', 'rb') as f:\n",
    "        record = pickle.load(f)\n",
    "    return record\n"
   ]
  },
  {
   "cell_type": "code",
   "execution_count": 31,
   "metadata": {
    "scrolled": false
   },
   "outputs": [],
   "source": [
    "# get averaged auprc scores for each epoches\n",
    "scores = dict()\n",
    "prc_final = dict()\n",
    "for model in models.keys():\n",
    "    out = get_test_out(model)\n",
    "    scores[model] = out\n",
    "    prc_final[model] = out[99][0]"
   ]
  },
  {
   "cell_type": "code",
   "execution_count": 62,
   "metadata": {
    "scrolled": false
   },
   "outputs": [
    {
     "name": "stdout",
     "output_type": "stream",
     "text": [
      "---------------------------------------------\n",
      "|AUPRC scores for TIP model and its variants|\n",
      "---------------------------------------------\n",
      "|DR-DF         |                       0.948|\n",
      "|DR-NN         |                       0.944|\n",
      "|PR-HMP-NN     |                       0.746|\n",
      "|TIP           |                       0.948|\n",
      "---------------------------------------------\n"
     ]
    }
   ],
   "source": [
    "# print final AUPRC scores  for each models\n",
    "lines = '---------------------------------------------'\n",
    "print(lines)\n",
    "print('|{:10s}|'.format('AUPRC scores for TIP model and its variants'))\n",
    "print(lines)\n",
    "formats = '|{:14s}|{:28.3f}|'\n",
    "for model, scores in prc_final.items():\n",
    "    print(formats.format(model, scores))\n",
    "print(lines)\n"
   ]
  },
  {
   "cell_type": "markdown",
   "metadata": {},
   "source": [
    "## Drug embeddings \n"
   ]
  },
  {
   "cell_type": "markdown",
   "metadata": {},
   "source": [
    "## Model Characteristics and Relablility "
   ]
  },
  {
   "cell_type": "markdown",
   "metadata": {},
   "source": [
    "### The side effects evaluated in Zitnik et al. (2018)\n",
    "The side effects with the top 10 best performance and 10 best performance, according to averaged auprc scores"
   ]
  },
  {
   "cell_type": "code",
   "execution_count": 3,
   "metadata": {},
   "outputs": [],
   "source": [
    "# ######################################################\n",
    "# side effect name - original index reported in decagon\n",
    "decagon_best_name = [\"Mumps\", \"Carbuncle\", \"Coccydynia\", \"Tympanic membrane perfor\", \"Dyshidrosis\", \"Spondylosis\", \"Schizoaffective disorder\", \"Breast dysplasia\", \"Ganglion\", \"Uterine polyp\"]\n",
    "decagon_worst_name = [\"Bleeding\", \"Body temperature increased\",  \"Emesis\", \"Renal disorder\", \"Leucopenia\", \"Diarrhea\", \"Icterus\", \"Nausea\", \"Itch\", \"Anaemia\"]\n",
    "decagon_best_org_id = [26780, 7078, 9193, 206504, 32633, 38019, 36337, 16034, 1258666, 156369]\n",
    "decagon_worst_org_id = [19080, 15967, 42963, 22658, 23530, 11991, 22346, 27497, 33774, 2871]\n",
    "\n",
    "# get index\n",
    "decagon_best_idx = [inv_et_list[combo_map[i]] for i in decagon_best_org_id]\n",
    "decagon_worst_idx = [inv_et_list[combo_map[i]] for i in decagon_worst_org_id]\n",
    "\n"
   ]
  },
  {
   "cell_type": "markdown",
   "metadata": {},
   "source": [
    "### The side effects evaluated in our work\n",
    "The side effects with the top 20 best and 20 worst performance, according to averaged auprc scores."
   ]
  },
  {
   "cell_type": "code",
   "execution_count": 14,
   "metadata": {
    "scrolled": false
   },
   "outputs": [
    {
     "name": "stdout",
     "output_type": "stream",
     "text": [
      "-------------------------------------------------------------------------------------------------------\n",
      " The Highest AUPRC Score                   Edge| The Lowest AUPRC Score                            Edge\n",
      "-------------------------------------------------------------------------------------------------------\n",
      " cervical vertebral fracture     0.9963     516| Bleeding                                0.8308   12062\n",
      " hordeolum                       0.9942     546| agitated                                0.8447   19930\n",
      " Mumps                           0.9934     602| hypoglycaemia neonatal                  0.8467   12309\n",
      " spondylosis                     0.9931     847| Difficulty breathing                    0.8512   14192\n",
      " night cramps                    0.9920     689| thrombocytopenia                        0.8534    7126\n",
      " fibrosing alveolitis            0.9913     661| asystole                                0.8562    8621\n",
      " diaphragmatic hernia            0.9906     853| Aspartate Aminotransferase Increase     0.8586    3479\n",
      " renal colic                     0.9905    1085| lung edema                              0.8614    4030\n",
      " coccydynia                      0.9898     898| neonatal respiratory distress syndrome  0.8627    9358\n",
      " Bunion                          0.9887     551| hyperglycaemia                          0.8643    7915\n",
      " dyspareunia                     0.9884     685| Back Ache                               0.8647    5708\n",
      " Arachnoiditis                   0.9884     502| diarrhea                                0.8694   11218\n",
      " tympanic membrane perforation   0.9883    1030| Anorexia                                0.8694   17060\n",
      " tracheitis                      0.9880     633| confusion                               0.8700   12141\n",
      " soft tissue injuries            0.9879     584| patent ductus arteriosis                0.8701    8465\n",
      " spondylitis                     0.9877     687| allergies                               0.8706   14143\n",
      " Dyspnoea paroxysmal nocturnal   0.9876     670| sepsis                                  0.8725    1206\n",
      " nasal polyp                     0.9875     508| arterial pressure NOS decreased         0.8729   18779\n",
      " Breast cyst                     0.9866     636| Acidosis                                0.8730    4407\n",
      " epidural abscess                0.9865     516| itch                                    0.8736   12443\n",
      "-------------------------------------------------------------------------------------------------------\n"
     ]
    }
   ],
   "source": [
    "# ######################################################\n",
    "# Evaluation\n",
    "name = 'RGCN-DistMult on d-net'\n",
    "lines = '-------------------------------------------------------------------------------------------------------'\n",
    "\n",
    "with open('../out/dd-rgcn-dist/test_record.pkl', 'rb') as f:\n",
    "    dist_record = pickle.load(f)\n",
    "auprc = np.array(dist_record[len(dist_record)-1])[0, :]\n",
    "sorted_idx = np.argsort(auprc, kind='quicksort')\n",
    "\n",
    "print(lines)\n",
    "print(' {:37s}   {:6s}| {:45s}  {:6s}'.format('The Highest AUPRC Score', '  Edge', 'The Lowest AUPRC Score', '   Edge'))\n",
    "print(lines)\n",
    "\n",
    "for i in range(20):\n",
    "    print(' {:30s} {:7.4f}  {:6d}| {:38s} {:7.4f}  {:6d}'.format(\n",
    "        combo_name_map[inv_combo_map[et_list[sorted_idx[-(i+1)]]]], auprc[sorted_idx[-(i+1)]], feed_dict['dd_adj_list'][-(i+1)].nnz,\n",
    "        combo_name_map[inv_combo_map[et_list[sorted_idx[i]]]], auprc[sorted_idx[i]], feed_dict['dd_adj_list'][i].nnz))\n",
    "print(lines)\n",
    "\n",
    "decag_best_in_us = [962 - np.where(sorted_idx == i)[0] for i in decagon_best_idx]\n",
    "decag_worst_in_us = [np.where(sorted_idx == i)[0] for i in decagon_worst_idx]"
   ]
  },
  {
   "cell_type": "code",
   "execution_count": null,
   "metadata": {},
   "outputs": [],
   "source": []
  }
 ],
 "metadata": {
  "hide_input": false,
  "kernelspec": {
   "display_name": "Python 3",
   "language": "python",
   "name": "python3"
  },
  "language_info": {
   "codemirror_mode": {
    "name": "ipython",
    "version": 3
   },
   "file_extension": ".py",
   "mimetype": "text/x-python",
   "name": "python",
   "nbconvert_exporter": "python",
   "pygments_lexer": "ipython3",
   "version": "3.7.5"
  },
  "pycharm": {
   "stem_cell": {
    "cell_type": "raw",
    "metadata": {
     "collapsed": false
    },
    "source": []
   }
  },
  "toc": {
   "base_numbering": 1,
   "nav_menu": {},
   "number_sections": true,
   "sideBar": true,
   "skip_h1_title": false,
   "title_cell": "Table of Contents",
   "title_sidebar": "Contents",
   "toc_cell": true,
   "toc_position": {
    "height": "calc(100% - 180px)",
    "left": "10px",
    "top": "150px",
    "width": "184.797px"
   },
   "toc_section_display": true,
   "toc_window_display": true
  },
  "varInspector": {
   "cols": {
    "lenName": 16,
    "lenType": 16,
    "lenVar": 40
   },
   "kernels_config": {
    "python": {
     "delete_cmd_postfix": "",
     "delete_cmd_prefix": "del ",
     "library": "var_list.py",
     "varRefreshCmd": "print(var_dic_list())"
    },
    "r": {
     "delete_cmd_postfix": ") ",
     "delete_cmd_prefix": "rm(",
     "library": "var_list.r",
     "varRefreshCmd": "cat(var_dic_list()) "
    }
   },
   "position": {
    "height": "293px",
    "left": "1064px",
    "right": "20px",
    "top": "2px",
    "width": "343px"
   },
   "types_to_exclude": [
    "module",
    "function",
    "builtin_function_or_method",
    "instance",
    "_Feature"
   ],
   "window_display": false
  }
 },
 "nbformat": 4,
 "nbformat_minor": 2
}
