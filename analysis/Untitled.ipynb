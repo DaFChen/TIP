{
 "cells": [
  {
   "cell_type": "markdown",
   "metadata": {
    "toc": true
   },
   "source": [
    "<h1>Table of Contents<span class=\"tocSkip\"></span></h1>\n",
    "<div class=\"toc\"><ul class=\"toc-item\"><li><span><a href=\"#Load-index-and-data\" data-toc-modified-id=\"Load-index-and-data-1\"><span class=\"toc-item-num\">1&nbsp;&nbsp;</span>Load index and data</a></span></li><li><span><a href=\"#The-side-effects-of-the-top-10-highest-auprc-in-Decagon\" data-toc-modified-id=\"The-side-effects-of-the-top-10-highest-auprc-in-Decagon-2\"><span class=\"toc-item-num\">2&nbsp;&nbsp;</span>The side effects of the top 10 highest auprc in Decagon</a></span></li><li><span><a href=\"#Evaluation\" data-toc-modified-id=\"Evaluation-3\"><span class=\"toc-item-num\">3&nbsp;&nbsp;</span>Evaluation</a></span></li></ul></div>"
   ]
  },
  {
   "cell_type": "code",
   "execution_count": 4,
   "metadata": {},
   "outputs": [],
   "source": [
    "from load import load_data_torch\n",
    "import matplotlib.pyplot as plt\n",
    "import pickle\n",
    "import numpy"
   ]
  },
  {
   "cell_type": "markdown",
   "metadata": {},
   "source": [
    "## Load index and data"
   ]
  },
  {
   "cell_type": "code",
   "execution_count": 6,
   "metadata": {},
   "outputs": [
    {
     "ename": "FileNotFoundError",
     "evalue": "[Errno 2] No such file or directory: '../data/index_map/bio-decagon-combo.csv'",
     "output_type": "error",
     "traceback": [
      "\u001b[0;31m---------------------------------------------------------------------------\u001b[0m",
      "\u001b[0;31mFileNotFoundError\u001b[0m                         Traceback (most recent call last)",
      "\u001b[0;32m<ipython-input-6-87e67b040b5f>\u001b[0m in \u001b[0;36m<module>\u001b[0;34m\u001b[0m\n\u001b[1;32m     18\u001b[0m \u001b[0;31m# generate polypharmacy side effect id - name map\u001b[0m\u001b[0;34m\u001b[0m\u001b[0;34m\u001b[0m\u001b[0;34m\u001b[0m\u001b[0m\n\u001b[1;32m     19\u001b[0m \u001b[0mcombo_name_map\u001b[0m \u001b[0;34m=\u001b[0m \u001b[0;34m{\u001b[0m\u001b[0;34m}\u001b[0m\u001b[0;34m\u001b[0m\u001b[0;34m\u001b[0m\u001b[0m\n\u001b[0;32m---> 20\u001b[0;31m \u001b[0;32mwith\u001b[0m \u001b[0mopen\u001b[0m\u001b[0;34m(\u001b[0m\u001b[0;34m'../data/index_map/bio-decagon-combo.csv'\u001b[0m\u001b[0;34m,\u001b[0m \u001b[0;34m'r'\u001b[0m\u001b[0;34m)\u001b[0m \u001b[0;32mas\u001b[0m \u001b[0mf\u001b[0m\u001b[0;34m:\u001b[0m\u001b[0;34m\u001b[0m\u001b[0;34m\u001b[0m\u001b[0m\n\u001b[0m\u001b[1;32m     21\u001b[0m     \u001b[0mreader\u001b[0m \u001b[0;34m=\u001b[0m \u001b[0mcsv\u001b[0m\u001b[0;34m.\u001b[0m\u001b[0mreader\u001b[0m\u001b[0;34m(\u001b[0m\u001b[0mf\u001b[0m\u001b[0;34m)\u001b[0m\u001b[0;34m\u001b[0m\u001b[0;34m\u001b[0m\u001b[0m\n\u001b[1;32m     22\u001b[0m     \u001b[0mnext\u001b[0m\u001b[0;34m(\u001b[0m\u001b[0mreader\u001b[0m\u001b[0;34m)\u001b[0m\u001b[0;34m\u001b[0m\u001b[0;34m\u001b[0m\u001b[0m\n",
      "\u001b[0;31mFileNotFoundError\u001b[0m: [Errno 2] No such file or directory: '../data/index_map/bio-decagon-combo.csv'"
     ]
    }
   ],
   "source": [
    "# drug id - index\n",
    "with open('../data/index_map/drug-map.pkl', 'rb') as f:\n",
    "    drug_map = pickle.load(f)\n",
    "inv_drug_map = {v: k for k, v in drug_map.items()}\n",
    "\n",
    "# combo id - index\n",
    "with open('../data/index_map/combo_map.pkl', 'rb') as f:\n",
    "    combo_map = pickle.load(f)\n",
    "inv_combo_map = {v: k for k, v in combo_map.items()}\n",
    "\n",
    "# selected-drug idx - drug idx\n",
    "with open('../out/decagon_et.pkl', 'rb') as f:   # the whole dataset\n",
    "    et_list = pickle.load(f)\n",
    "inv_et_list = {et_list[i]: i for i in range(len(et_list))}\n",
    "\n",
    "\n",
    "######################################################\n",
    "# generate polypharmacy side effect id - name map\n",
    "combo_name_map = {}\n",
    "with open('../data/index_map/bio-decagon-combo.csv', 'r') as f:\n",
    "    reader = csv.reader(f)\n",
    "    next(reader)\n",
    "    for _, _, id, name in reader:\n",
    "        id = int(id.split('C')[-1])\n",
    "        combo_name_map[id] = name\n",
    "\n",
    "# save map\n",
    "with open('../data/index_map/combo-name-map.pkl', 'wb') as f:\n",
    "    pickle.dump(combo_name_map, f)\n",
    "\n",
    "# use map\n",
    "# with open('../data/index_map/combo-name-map.pkl', 'rb') as f:\n",
    "#     combo_name_map = pickle.load(f)"
   ]
  },
  {
   "cell_type": "markdown",
   "metadata": {},
   "source": [
    "## The side effects of the top 10 highest auprc in Decagon"
   ]
  },
  {
   "cell_type": "code",
   "execution_count": 24,
   "metadata": {},
   "outputs": [],
   "source": [
    "# ######################################################\n",
    "# side effect name - original index reported in decagon\n",
    "decagon_best_name = [\"Mumps\", \"Carbuncle\", \"Coccydynia\", \"Tympanic membrane perfor\", \"Dyshidrosis\", \"Spondylosis\", \"Schizoaffective disorder\", \"Breast dysplasia\", \"Ganglion\", \"Uterine polyp\"]\n",
    "decagon_worst_name = [\"Bleeding\", \"Body temperature increased\",  \"Emesis\", \"Renal disorder\", \"Leucopenia\", \"Diarrhea\", \"Icterus\", \"Nausea\", \"Itch\", \"Anaemia\"]\n",
    "decagon_best_org_id = [26780, 7078, 9193, 206504, 32633, 38019, 36337, 16034, 1258666, 156369]\n",
    "decagon_worst_org_id = [19080, 15967, 42963, 22658, 23530, 11991, 22346, 27497, 33774, 2871]\n",
    "\n",
    "# get index\n",
    "decagon_best_idx = [inv_et_list[combo_map[i]] for i in decagon_best_org_id]\n",
    "decagon_worst_idx = [inv_et_list[combo_map[i]] for i in decagon_worst_org_id]\n",
    "\n"
   ]
  },
  {
   "cell_type": "markdown",
   "metadata": {},
   "source": [
    "## Evaluation"
   ]
  },
  {
   "cell_type": "code",
   "execution_count": 25,
   "metadata": {},
   "outputs": [
    {
     "name": "stdout",
     "output_type": "stream",
     "text": [
      " The Highest AUPRC Score                   Edge| The Lowest AUPRC Score                            Edge\n"
     ]
    },
    {
     "ename": "NameError",
     "evalue": "name 'combo_name_map' is not defined",
     "output_type": "error",
     "traceback": [
      "\u001b[0;31m---------------------------------------------------------------------------\u001b[0m",
      "\u001b[0;31mNameError\u001b[0m                                 Traceback (most recent call last)",
      "\u001b[0;32m<ipython-input-25-592e41e4321d>\u001b[0m in \u001b[0;36m<module>\u001b[0;34m\u001b[0m\n\u001b[1;32m     10\u001b[0m \u001b[0;32mfor\u001b[0m \u001b[0mi\u001b[0m \u001b[0;32min\u001b[0m \u001b[0mrange\u001b[0m\u001b[0;34m(\u001b[0m\u001b[0;36m20\u001b[0m\u001b[0;34m)\u001b[0m\u001b[0;34m:\u001b[0m\u001b[0;34m\u001b[0m\u001b[0;34m\u001b[0m\u001b[0m\n\u001b[1;32m     11\u001b[0m     print(' {:30s} {:7.4f}  {:6d}| {:38s} {:7.4f}  {:6d}'.format(\n\u001b[0;32m---> 12\u001b[0;31m         \u001b[0mcombo_name_map\u001b[0m\u001b[0;34m[\u001b[0m\u001b[0minv_combo_map\u001b[0m\u001b[0;34m[\u001b[0m\u001b[0met_list\u001b[0m\u001b[0;34m[\u001b[0m\u001b[0msorted_idx\u001b[0m\u001b[0;34m[\u001b[0m\u001b[0;34m-\u001b[0m\u001b[0;34m(\u001b[0m\u001b[0mi\u001b[0m\u001b[0;34m+\u001b[0m\u001b[0;36m1\u001b[0m\u001b[0;34m)\u001b[0m\u001b[0;34m]\u001b[0m\u001b[0;34m]\u001b[0m\u001b[0;34m]\u001b[0m\u001b[0;34m]\u001b[0m\u001b[0;34m,\u001b[0m \u001b[0mauprc\u001b[0m\u001b[0;34m[\u001b[0m\u001b[0msorted_idx\u001b[0m\u001b[0;34m[\u001b[0m\u001b[0;34m-\u001b[0m\u001b[0;34m(\u001b[0m\u001b[0mi\u001b[0m\u001b[0;34m+\u001b[0m\u001b[0;36m1\u001b[0m\u001b[0;34m)\u001b[0m\u001b[0;34m]\u001b[0m\u001b[0;34m]\u001b[0m\u001b[0;34m,\u001b[0m \u001b[0mfeed_dict\u001b[0m\u001b[0;34m[\u001b[0m\u001b[0;34m'dd_adj_list'\u001b[0m\u001b[0;34m]\u001b[0m\u001b[0;34m[\u001b[0m\u001b[0;34m-\u001b[0m\u001b[0;34m(\u001b[0m\u001b[0mi\u001b[0m\u001b[0;34m+\u001b[0m\u001b[0;36m1\u001b[0m\u001b[0;34m)\u001b[0m\u001b[0;34m]\u001b[0m\u001b[0;34m.\u001b[0m\u001b[0mnnz\u001b[0m\u001b[0;34m,\u001b[0m\u001b[0;34m\u001b[0m\u001b[0;34m\u001b[0m\u001b[0m\n\u001b[0m\u001b[1;32m     13\u001b[0m         combo_name_map[inv_combo_map[et_list[sorted_idx[i]]]], auprc[sorted_idx[i]], feed_dict['dd_adj_list'][i].nnz))\n\u001b[1;32m     14\u001b[0m \u001b[0;34m\u001b[0m\u001b[0m\n",
      "\u001b[0;31mNameError\u001b[0m: name 'combo_name_map' is not defined"
     ]
    }
   ],
   "source": [
    "# ######################################################\n",
    "# Evaluation\n",
    "name = 'RGCN-DistMult on d-net'\n",
    "with open('../out/fm-(32-16)-(16-16-32-32-16)/test_record.pkl', 'rb') as f:\n",
    "    dist_record = pickle.load(f)\n",
    "auprc = np.array(dist_record[len(dist_record)-1])[0, :]\n",
    "sorted_idx = np.argsort(auprc, kind='quicksort')\n",
    "\n",
    "print(' {:37s}   {:6s}| {:45s}  {:6s}'.format('The Highest AUPRC Score', '  Edge', 'The Lowest AUPRC Score', '   Edge'))\n",
    "for i in range(20):\n",
    "    print(' {:30s} {:7.4f}  {:6d}| {:38s} {:7.4f}  {:6d}'.format(\n",
    "        combo_name_map[inv_combo_map[et_list[sorted_idx[-(i+1)]]]], auprc[sorted_idx[-(i+1)]], feed_dict['dd_adj_list'][-(i+1)].nnz,\n",
    "        combo_name_map[inv_combo_map[et_list[sorted_idx[i]]]], auprc[sorted_idx[i]], feed_dict['dd_adj_list'][i].nnz))\n",
    "\n",
    "decag_best_in_us = [962 - np.where(sorted_idx == i)[0] for i in decagon_best_idx]\n",
    "decag_worst_in_us = [np.where(sorted_idx == i)[0] for i in decagon_worst_idx]"
   ]
  },
  {
   "cell_type": "code",
   "execution_count": null,
   "metadata": {},
   "outputs": [],
   "source": []
  }
 ],
 "metadata": {
  "kernelspec": {
   "display_name": "Python 3",
   "language": "python",
   "name": "python3"
  },
  "language_info": {
   "codemirror_mode": {
    "name": "ipython",
    "version": 3
   },
   "file_extension": ".py",
   "mimetype": "text/x-python",
   "name": "python",
   "nbconvert_exporter": "python",
   "pygments_lexer": "ipython3",
   "version": "3.6.8"
  },
  "toc": {
   "base_numbering": 1,
   "nav_menu": {},
   "number_sections": true,
   "sideBar": true,
   "skip_h1_title": false,
   "title_cell": "Table of Contents",
   "title_sidebar": "Contents",
   "toc_cell": true,
   "toc_position": {
    "height": "calc(100% - 180px)",
    "left": "10px",
    "top": "150px",
    "width": "184.797px"
   },
   "toc_section_display": true,
   "toc_window_display": true
  },
  "varInspector": {
   "cols": {
    "lenName": 16,
    "lenType": 16,
    "lenVar": 40
   },
   "kernels_config": {
    "python": {
     "delete_cmd_postfix": "",
     "delete_cmd_prefix": "del ",
     "library": "var_list.py",
     "varRefreshCmd": "print(var_dic_list())"
    },
    "r": {
     "delete_cmd_postfix": ") ",
     "delete_cmd_prefix": "rm(",
     "library": "var_list.r",
     "varRefreshCmd": "cat(var_dic_list()) "
    }
   },
   "position": {
    "height": "335px",
    "left": "1050px",
    "right": "20px",
    "top": "37px",
    "width": "337px"
   },
   "types_to_exclude": [
    "module",
    "function",
    "builtin_function_or_method",
    "instance",
    "_Feature"
   ],
   "window_display": true
  }
 },
 "nbformat": 4,
 "nbformat_minor": 2
}
